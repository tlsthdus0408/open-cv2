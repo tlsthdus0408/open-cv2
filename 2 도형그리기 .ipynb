{
 "cells": [
  {
   "cell_type": "code",
   "execution_count": 1,
   "id": "5911690a",
   "metadata": {},
   "outputs": [
    {
     "data": {
      "text/html": [
       "<style>div.container { width:100% !important; }</style>"
      ],
      "text/plain": [
       "<IPython.core.display.HTML object>"
      ]
     },
     "metadata": {},
     "output_type": "display_data"
    }
   ],
   "source": [
    "from IPython.display import display, HTML\n",
    "display(HTML(\"<style>div.container { width:100% !important; }</style>\"))\n"
   ]
  },
  {
   "cell_type": "code",
   "execution_count": 2,
   "id": "b446dfda",
   "metadata": {},
   "outputs": [],
   "source": [
    "import cv2 "
   ]
  },
  {
   "cell_type": "markdown",
   "id": "6790bb45",
   "metadata": {},
   "source": [
    " # 라인그리기"
   ]
  },
  {
   "cell_type": "code",
   "execution_count": 4,
   "id": "068a9672",
   "metadata": {},
   "outputs": [],
   "source": [
    "img=np.full((250,250,3),255,dtype=np.uint8) # np.full 250에 250 크기를 직사각형을 만들고 3개 만들어라 \n",
    "                                             #하얀색배경을 넣은데 8비트로 이용해라 \n",
    "\n",
    "cv2.line(img,(50,10),(200,10),(255,0,0),1) # x축으로 50,으로 들어가고 x축으로 200들어가라 \n",
    "                                           #y축으로 10 들어가라 y축으로 가라10으로  \n",
    "                                            #255 BGR값으로 블루, 굵기는 1\n",
    "cv2.line(img,(50,60),(200,60),(0,255,0),2) #255 BGR값으로 그린, 굵기는 2\n",
    "cv2.line(img,(50,110),(200,110),(0,0,255),3)\n",
    "cv2.line(img,(50,160),(200,160),(0,0,0),4)\n",
    "cv2.line(img,(50,210),(200,210),(255,0,255),5)\n",
    "cv2.imshow('Lines',img) #Liens 원도우네임, 타이틀\n",
    "cv2.waitKey(0) #키가 입력될때까지 무한 대기\n",
    "cv2.destroyAllWindows() # 창을 끄라"
   ]
  },
  {
   "cell_type": "code",
   "execution_count": 5,
   "id": "cf453d43",
   "metadata": {},
   "outputs": [],
   "source": [
    "import numpy as np"
   ]
  },
  {
   "cell_type": "markdown",
   "id": "61f17657",
   "metadata": {},
   "source": [
    "# 사각형그리기"
   ]
  },
  {
   "cell_type": "code",
   "execution_count": 8,
   "id": "1339e78d",
   "metadata": {},
   "outputs": [],
   "source": [
    "\n",
    "img=np.full((250,250,3),255,dtype=np.uint8)\n",
    "cv2.rectangle(img,(50,10),(200,50),(255,0,0))                                         \n",
    "cv2.rectangle(img,(50,60),(200,100),(255,0,0),5) \n",
    "cv2.rectangle(img,(50,110),(200,150),(255,0,0),-1)\n",
    "cv2.rectangle(img,(50,160),(200,200),(255,0,0),-1)\n",
    "cv2.rectangle(img,(50,160),(200,200),(0,0,255),-1)\n",
    "cv2.imshow('Rectangle',img)\n",
    "cv2.waitKey(0) \n",
    "cv2.destroyAllWindows()"
   ]
  },
  {
   "cell_type": "markdown",
   "id": "21a00520",
   "metadata": {},
   "source": [
    "# 원그리기"
   ]
  },
  {
   "cell_type": "code",
   "execution_count": 14,
   "id": "a47acd64",
   "metadata": {},
   "outputs": [],
   "source": [
    "img=np.full((250,250,3),255,dtype=np.uint8)\n",
    "cv2.circle(img,(50,50),50,(255,0,0))                                         \n",
    "cv2.circle(img,(100,100),50,(0,255,0),-1)  #100,100 중심점좌표\n",
    "cv2.circle(img,(100,100),100,(0,0,255),5)\n",
    "cv2.circle(img,(200,200),50,(0,0,0),5)\n",
    "cv2.imshow('circle',img)\n",
    "cv2.waitKey(0) \n",
    "cv2.destroyAllWindows()"
   ]
  },
  {
   "cell_type": "markdown",
   "id": "243fec0a",
   "metadata": {},
   "source": [
    "# 타원과 호 그리기"
   ]
  },
  {
   "cell_type": "code",
   "execution_count": 25,
   "id": "f581e18f",
   "metadata": {},
   "outputs": [],
   "source": [
    "img=np.full((250,250,3),255,dtype=np.uint8)\n",
    "cv2.ellipse(img,(60,60),(50,30),-30,0,360,(255,0,0),2)                                         \n",
    "cv2.ellipse(img,(160,60),(50,30),0,0,360,(0,0,255),-1) \n",
    "cv2.ellipse(img,(60,160),(50,30),30,0,180,(255,0,0),2)\n",
    "cv2.ellipse(img,(160,160),(50,30),90,0,180,(0,0,255),-1)\n",
    "cv2.ellipse(img,(160,160),(50,30),90,180,360,(255,0,0),-1)\n",
    "\n",
    "cv2.imshow('ellipse',img)\n",
    "cv2.waitKey(0) \n",
    "cv2.destroyAllWindows()"
   ]
  },
  {
   "cell_type": "code",
   "execution_count": 26,
   "id": "2acd07d8",
   "metadata": {},
   "outputs": [],
   "source": [
    "import matplotlib.pyplot as plt"
   ]
  },
  {
   "cell_type": "code",
   "execution_count": 38,
   "id": "157c4157",
   "metadata": {
    "scrolled": true
   },
   "outputs": [
    {
     "data": {
      "image/png": "[encoded data removed]",
      "text/plain": [
       "<Figure size 432x288 with 1 Axes>"
      ]
     },
     "metadata": {
      "needs_background": "light"
     },
     "output_type": "display_data"
    }
   ],
   "source": [
    "img=np.full((250,250,3),255,dtype=np.uint8)\n",
    "cv2.ellipse(img,(60,60),(50,30),-30,0,360,(255,0,0),2)                                         \n",
    "cv2.ellipse(img,(160,60),(50,30),0,0,360,(0,0,255),-1) \n",
    "cv2.ellipse(img,(60,160),(50,30),30,0,180,(255,0,0),2)\n",
    "cv2.ellipse(img,(160,160),(50,30),90,0,180,(0,0,255),-1)\n",
    "cv2.ellipse(img,(160,160),(50,30),90,180,360,(255,0,0),-1)\n",
    "plt.imshow(img)\n",
    "plt.title('ellipse')\n",
    "plt.show()"
   ]
  },
  {
   "cell_type": "markdown",
   "id": "ed9a9dd5",
   "metadata": {},
   "source": [
    "# 다각형그리기"
   ]
  },
  {
   "cell_type": "code",
   "execution_count": 32,
   "id": "9c87df25",
   "metadata": {},
   "outputs": [],
   "source": [
    "img=np.full((250,250,3),255,dtype=np.uint8)\n",
    "points=np.array([[[60,60],[100,10],[200,60],[150,100],[100,100]]],dtype=np.int32)\n",
    "cv2.polylines(img,points,True,(255,0,0),5)                                         \n",
    "cv2.polylines(img,points+[0,100],False,(0,0,255),10)#y의 값만큼 100만큼 내려간다\n",
    "cv2.imshow('polylinese',img)\n",
    "cv2.waitKey(0) \n",
    "cv2.destroyAllWindows()"
   ]
  },
  {
   "cell_type": "markdown",
   "id": "d56a3463",
   "metadata": {},
   "source": [
    "# 텍스트 표시하기"
   ]
  },
  {
   "cell_type": "code",
   "execution_count": 37,
   "id": "2e048882",
   "metadata": {},
   "outputs": [],
   "source": [
    "img=np.full((250,250,3),255,dtype=np.uint8)\n",
    "cv2.putText(img,\"Hell Python\",(10,50),cv2.FONT_ITALIC,1,(255,0,0))                                         \n",
    "cv2.putText(img,\"Hell Python\",(10,80),cv2.FONT_ITALIC,0.5,(0,0,255))    \n",
    "cv2.putText(img,\"Hell Python\",(10,150),cv2.FONT_ITALIC,2,(0,0,0))     \n",
    "cv2.putText(img,\"Hell Python\",(10,200),cv2.FONT_ITALIC,1,(0,0,0))    \n",
    "cv2.imshow(\"Text\",img)\n",
    "cv2.waitKey(0)\n",
    "plt.show()"
   ]
  },
  {
   "cell_type": "code",
   "execution_count": null,
   "id": "05c68395",
   "metadata": {},
   "outputs": [],
   "source": [
    "def black_lines(img)"
   ]
  }
 ],
 "metadata": {
  "kernelspec": {
   "display_name": "Python 3 (ipykernel)",
   "language": "python",
   "name": "python3"
  },
  "language_info": {
   "codemirror_mode": {
    "name": "ipython",
    "version": 3
   },
   "file_extension": ".py",
   "mimetype": "text/x-python",
   "name": "python",
   "nbconvert_exporter": "python",
   "pygments_lexer": "ipython3",
   "version": "3.9.12"
  },
  "toc": {
   "base_numbering": 1,
   "nav_menu": {},
   "number_sections": true,
   "sideBar": true,
   "skip_h1_title": false,
   "title_cell": "Table of Contents",
   "title_sidebar": "Contents",
   "toc_cell": false,
   "toc_position": {},
   "toc_section_display": true,
   "toc_window_display": false
  },
  "varInspector": {
   "cols": {
    "lenName": 16,
    "lenType": 16,
    "lenVar": 40
   },
   "kernels_config": {
    "python": {
     "delete_cmd_postfix": "",
     "delete_cmd_prefix": "del ",
     "library": "var_list.py",
     "varRefreshCmd": "print(var_dic_list())"
    },
    "r": {
     "delete_cmd_postfix": ") ",
     "delete_cmd_prefix": "rm(",
     "library": "var_list.r",
     "varRefreshCmd": "cat(var_dic_list()) "
    }
   },
   "types_to_exclude": [
    "module",
    "function",
    "builtin_function_or_method",
    "instance",
    "_Feature"
   ],
   "window_display": false
  }
 },
 "nbformat": 4,
 "nbformat_minor": 5
}
